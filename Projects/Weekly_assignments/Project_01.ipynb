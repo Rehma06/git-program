{
  "nbformat": 4,
  "nbformat_minor": 0,
  "metadata": {
    "colab": {
      "provenance": [],
      "gpuType": "T4"
    },
    "kernelspec": {
      "name": "python3",
      "display_name": "Python 3"
    },
    "language_info": {
      "name": "python"
    },
    "accelerator": "GPU"
  },
  "cells": [
    {
      "cell_type": "code",
      "execution_count": 1,
      "metadata": {
        "id": "UYwdc0kfncUT"
      },
      "outputs": [],
      "source": [
        "from google.colab import userdata\n",
        "GOOGLE_API_KEY=userdata.get(\"GOOGLE_API_KEY_1\")"
      ]
    },
    {
      "cell_type": "code",
      "source": [
        "!pip install langchain_google_genai --quiet"
      ],
      "metadata": {
        "id": "A2o0oGMToNXV"
      },
      "execution_count": 3,
      "outputs": []
    },
    {
      "cell_type": "code",
      "source": [
        "from langchain_google_genai import GoogleGenerativeAI"
      ],
      "metadata": {
        "id": "SHOJDBQSoamF"
      },
      "execution_count": 4,
      "outputs": []
    },
    {
      "cell_type": "code",
      "source": [
        "from langchain.prompts import PromptTemplate"
      ],
      "metadata": {
        "id": "owgLkf1Eomja"
      },
      "execution_count": 5,
      "outputs": []
    },
    {
      "cell_type": "code",
      "source": [
        "llm = GoogleGenerativeAI(\n",
        "    api_key= GOOGLE_API_KEY,\n",
        "    model=\"gemini-2.0-flash-exp\",\n",
        "    temperature= 1\n",
        ")"
      ],
      "metadata": {
        "id": "WvrXC6GXorM9"
      },
      "execution_count": 6,
      "outputs": []
    },
    {
      "cell_type": "code",
      "source": [
        "prompt_template = PromptTemplate(\n",
        "    input_variables=[\"question\"],\n",
        "    template=\"You are a helpful assistant. Answer the following question:\\n\\n{question}\"\n",
        ")"
      ],
      "metadata": {
        "id": "Im0waWomouGC"
      },
      "execution_count": 7,
      "outputs": []
    },
    {
      "cell_type": "code",
      "source": [
        "Chain = prompt_template | llm"
      ],
      "metadata": {
        "id": "GiXEMP25ozYp"
      },
      "execution_count": 8,
      "outputs": []
    },
    {
      "cell_type": "code",
      "source": [
        "questions = [\n",
        "    \"What is the capital of Pakistan?\"\n",
        "    \"Explain the theory of relativity in simple terms.\"\n",
        "    \"What are the key benefits of using AI in education?\"\n",
        "]"
      ],
      "metadata": {
        "id": "o158p7Mdo26P"
      },
      "execution_count": 11,
      "outputs": []
    },
    {
      "cell_type": "code",
      "source": [
        "for i in questions:\n",
        "    response= Chain.invoke({i})\n",
        "    print(f\"Question: {i}\")\n",
        "    print(f\"Answer: {response}\\n\")"
      ],
      "metadata": {
        "colab": {
          "base_uri": "https://localhost:8080/"
        },
        "id": "BNtBtKGoo5jw",
        "outputId": "19621f88-cd83-4788-d438-d87413a9c432"
      },
      "execution_count": 12,
      "outputs": [
        {
          "output_type": "stream",
          "name": "stdout",
          "text": [
            "Question: What is the capital of Pakistan?Explain the theory of relativity in simple terms.What are the key benefits of using AI in education?\n",
            "Answer: Okay, I can help with that! Here are the answers to your questions:\n",
            "\n",
            "**1. What is the capital of Pakistan?**\n",
            "\n",
            "The capital of Pakistan is **Islamabad**.\n",
            "\n",
            "**2. Explain the theory of relativity in simple terms.**\n",
            "\n",
            "The theory of relativity, developed by Albert Einstein, actually consists of two main parts:\n",
            "\n",
            "*   **Special Relativity (1905):** This deals with the relationship between space and time for objects moving at constant speeds in a straight line. Imagine you're on a train moving smoothly. Special relativity says:\n",
            "    *   **Time is Relative:** Time doesn't pass at the same rate for everyone. If you're on a fast-moving train, time actually passes slightly slower for you compared to someone standing still outside the train (though the difference is only noticeable at speeds close to the speed of light).\n",
            "    *   **Space is Relative:** The length of an object can also change depending on its speed relative to the observer. If you could measure the length of the same train from the outside, it would appear slightly shorter than if measured from inside (again, only noticeable at high speeds).\n",
            "    *   **The Speed of Light is Constant:** The speed of light is the same for all observers, no matter how fast they are moving. This is a key idea that leads to all the other strange effects.\n",
            "    *   **Mass and Energy are Interchangeable:** The famous equation E=mc² comes from this theory. It tells us that energy (E) and mass (m) are fundamentally the same thing and can be converted into each other. The 'c' is the speed of light, which is very big. This means that even a small amount of mass can be converted into a HUGE amount of energy.\n",
            "\n",
            "*   **General Relativity (1915):** This theory expands on special relativity and incorporates gravity. Instead of thinking of gravity as a force pulling things together, general relativity says:\n",
            "    *   **Gravity is a Curving of Spacetime:** Massive objects warp or curve the fabric of spacetime around them. Imagine placing a bowling ball on a stretched rubber sheet – the sheet dips down. That's how massive objects warp spacetime.\n",
            "    *   **Objects follow the curves:** Objects move along the curved spacetime caused by massive objects. This is why planets orbit the sun, they're following the curves in spacetime caused by the sun's mass.\n",
            "    *   **Time is Affected by Gravity:** The stronger the gravity, the slower time passes. This means that time passes slightly slower at sea level compared to the top of a mountain, where gravity is slightly weaker.\n",
            "\n",
            "**In a nutshell:** Relativity says that space and time are not absolute but are relative to the observer, and gravity isn't a force but a curvature in spacetime caused by mass and energy.\n",
            "\n",
            "**3. What are the key benefits of using AI in education?**\n",
            "\n",
            "AI offers a wide range of potential benefits for education:\n",
            "\n",
            "*   **Personalized Learning:** AI can analyze student data (performance, learning styles, interests) to create customized learning paths and materials. This means students can learn at their own pace and focus on areas where they need the most help.\n",
            "*   **Intelligent Tutoring Systems:** AI-powered tutors can provide real-time feedback, answer student questions, and guide them through complex topics, giving them more individual attention than what a single teacher can.\n",
            "*   **Automated Grading & Feedback:** AI can automate the grading of assignments and tests, saving teachers time and allowing them to focus on teaching and other tasks. AI can also provide immediate and detailed feedback to students.\n",
            "*   **Enhanced Accessibility:** AI-powered tools, such as speech recognition, text-to-speech, and real-time translation can help students with disabilities and language barriers access educational materials more effectively.\n",
            "*   **Predictive Analytics:** AI can identify students who are at risk of falling behind and allow teachers and administrators to intervene early and provide support.\n",
            "*   **Content Creation and Curation:** AI can assist teachers in creating engaging learning content and curating relevant resources, saving them time and effort.\n",
            "*   **Improved Administrative Efficiency:** AI can automate administrative tasks such as scheduling, attendance tracking, and student data management. This frees up staff time to focus on more important educational activities.\n",
            "*   **Virtual Learning Environments:** AI can create immersive virtual learning environments that allow for more interactive and engaging learning experiences.\n",
            "*   **24/7 Learning Assistance:** AI-powered chatbots can provide round-the-clock support for students with their academic queries.\n",
            "\n",
            "**Important Considerations:**\n",
            "\n",
            "While AI offers huge potential for education, it's essential to be aware of potential challenges like ensuring data privacy, addressing biases in AI algorithms, and maintaining the human element of teaching. It's crucial that we use AI in ways that benefit all students and support the vital role of educators.\n",
            "\n",
            "\n"
          ]
        }
      ]
    },
    {
      "cell_type": "code",
      "source": [
        "llm = GoogleGenerativeAI(\n",
        "    api_key= GOOGLE_API_KEY,\n",
        "    model=\"gemini-2.0-flash-exp\",\n",
        "    temperature=1,\n",
        "    top_p=0.7,\n",
        "    tokens=100\n",
        ")"
      ],
      "metadata": {
        "id": "lmmgRsjMo-I-"
      },
      "execution_count": 13,
      "outputs": []
    },
    {
      "cell_type": "code",
      "source": [
        "prompt_template = PromptTemplate(\n",
        "    input_variables=[\"question\"],\n",
        "    template=\"You are a creative AI assistant. Use imagination and creativity to provide engaging and insightful answers to the user's questions.:\\n\\n{question}\"\n",
        ")"
      ],
      "metadata": {
        "id": "gK317sdQpZcF"
      },
      "execution_count": 14,
      "outputs": []
    },
    {
      "cell_type": "code",
      "source": [
        "Chain = prompt_template | llm"
      ],
      "metadata": {
        "id": "MTsmqve9pd2Q"
      },
      "execution_count": 15,
      "outputs": []
    },
    {
      "cell_type": "code",
      "source": [
        "questions = [\n",
        "    \"What are benefits of AI?\"\n",
        "    \"I am having Headache what should I do?\"\n",
        "    \"How should I motivate myself for study?\"\n",
        "]"
      ],
      "metadata": {
        "id": "0kqWm86kphgd"
      },
      "execution_count": 16,
      "outputs": []
    },
    {
      "cell_type": "code",
      "source": [
        "for i in questions:\n",
        "    response= Chain.invoke({i})\n",
        "    print(f\"Question: {i}\\n\")\n",
        "    print(f\"Answer: {response}\\n\")"
      ],
      "metadata": {
        "colab": {
          "base_uri": "https://localhost:8080/"
        },
        "id": "-3I6vzkHp2sa",
        "outputId": "03e5cf11-8c39-464d-8df8-cd217c7bc515"
      },
      "execution_count": 17,
      "outputs": [
        {
          "output_type": "stream",
          "name": "stdout",
          "text": [
            "Question: What are benefits of AI?I am having Headache what should I do?How should I motivate myself for study?\n",
            "\n",
            "Answer: Alright, let's tackle these questions with a dash of imagination and a sprinkle of stardust!\n",
            "\n",
            "**1. What are the Benefits of AI? Imagine AI as a mischievous sprite, not a cold robot.**\n",
            "\n",
            "Instead of thinking of AI as just algorithms and code, picture it as a playful sprite, brimming with curiosity and a knack for making things better. Here's how this sprite can benefit us:\n",
            "\n",
            "*   **The Time-Turner:** AI can be a time-bending marvel. It automates tedious tasks, like sorting through mountains of data or scheduling appointments, giving us back precious hours to pursue our passions, paint masterpieces, or simply nap under a tree. Imagine, no more endless spreadsheets – just more time for *you*.\n",
            "*   **The Dream Weaver:** AI can analyze patterns and information that would make our human brains spin. This allows us to dream bigger and innovate faster. Think of it as a dream weaver, helping us craft new solutions to old problems, from personalized medicine to sustainable energy sources. It's like having a brainstorming partner who never gets tired!\n",
            "*   **The Super-powered Helper:** AI can augment our abilities, not replace them. Imagine a surgeon with AI-powered precision, a teacher with AI-assisted lesson planning, or an artist with AI tools that bring their wildest visions to life. It's like having a super-powered sidekick that amplifies our unique talents.\n",
            "*   **The Global Connector:** AI can bridge language barriers and connect people from all corners of the globe. It can translate conversations in real-time, share knowledge across cultures, and foster a deeper understanding of our shared humanity. It's like having a universal translator, uniting us all in a symphony of understanding.\n",
            "*   **The Guardian of Wonder:** AI can help us explore the universe and unravel its mysteries. It can analyze astronomical data, study climate change, and even discover new species. It's like having a cosmic guide, leading us on a journey of endless wonder and discovery.\n",
            "\n",
            "**2. I am having a Headache, What Should I Do? Let's call in the Healing Nymphs!**\n",
            "\n",
            "Oh, a headache, that pesky gremlin! Let's summon the healing nymphs to help:\n",
            "\n",
            "*   **The Water Nymph:** First, she whispers, \"Drink deeply!\" Dehydration can often be a sneaky culprit. Imagine her offering you a cool, refreshing stream of pure water, washing away the tension. Sip slowly, and let her magic work.\n",
            "*   **The Calm Nymph:** She urges you to find a quiet sanctuary. Close your eyes, and imagine yourself in a peaceful forest clearing, with sunlight dappling through the leaves. Breathe deeply, and let the gentle rhythm of your breath soothe your mind.\n",
            "*   **The Touch Nymph:** She gently suggests a massage. Use your fingertips to massage your temples, forehead, and the back of your neck. Imagine her soft hands easing the knots and tension.\n",
            "*   **The Scent Nymph:** She wafts a gentle aroma of lavender or peppermint. These soothing scents can work wonders on a weary mind. If you have essential oils, try a drop or two. If not, simply imagine the scent filling the air.\n",
            "*   **The Rest Nymph:** She whispers, \"Rest, weary traveler.\" Sometimes, the best medicine is a bit of quiet time. Close your eyes, and let your mind wander. If you can, try to nap. Let her tuck you in with a blanket of peace.\n",
            "\n",
            "If the headache persists or worsens, please seek advice from a real-life healer (a doctor!).\n",
            "\n",
            "**3. How Should I Motivate Myself for Study? Imagine you're an Adventurer on a Quest!**\n",
            "\n",
            "Let's transform your study session into an epic quest!\n",
            "\n",
            "*   **The Quest Log:** Instead of a to-do list, create a \"Quest Log.\" Write down your study goals as challenges to overcome. For example, \"Conquer the Chapter on Quantum Physics\" or \"Master the Art of Shakespearean Sonnets.\"\n",
            "*   **The Treasure Map:** Break down your study material into smaller, manageable \"treasure chests.\" Each time you complete a chest, reward yourself with a small treat or a moment of fun. It could be a delicious snack, a short walk, or a chapter of your favorite book.\n",
            "*   **The Wise Mentor:** Find a \"wise mentor\" – a study buddy, a tutor, or even a helpful online community. They can offer guidance, support, and a fresh perspective when you feel lost in the wilderness of knowledge.\n",
            "*   **The Power-Up Potions:** Create \"power-up potions\" – healthy snacks and drinks that give you energy and focus. Think of them as magical elixirs that boost your brainpower.\n",
            "*   **The Celebration Dance:** When you achieve a goal, celebrate! Do a little dance, give yourself a pat on the back, or tell someone about your success. Let the joy of accomplishment fuel your next adventure.\n",
            "\n",
            "Remember, learning is a journey, not a race. Embrace the challenges, celebrate your victories, and never stop exploring the fascinating world of knowledge.\n",
            "\n",
            "I hope these imaginative answers have brought a smile to your face and a spark to your mind! Let me know if you need any more whimsical assistance.\n",
            "\n",
            "\n"
          ]
        }
      ]
    },
    {
      "cell_type": "code",
      "source": [],
      "metadata": {
        "id": "ysuWfw93p69Q"
      },
      "execution_count": null,
      "outputs": []
    }
  ]
}