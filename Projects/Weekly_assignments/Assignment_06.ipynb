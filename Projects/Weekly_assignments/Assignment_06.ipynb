{
  "nbformat": 4,
  "nbformat_minor": 0,
  "metadata": {
    "colab": {
      "provenance": [],
      "gpuType": "T4"
    },
    "kernelspec": {
      "name": "python3",
      "display_name": "Python 3"
    },
    "language_info": {
      "name": "python"
    },
    "accelerator": "GPU"
  },
  "cells": [
    {
      "cell_type": "markdown",
      "source": [
        "# Installing libraries"
      ],
      "metadata": {
        "id": "_-xWfKW7ti9z"
      }
    },
    {
      "cell_type": "code",
      "source": [
        "!pip install -q -U langchain\n",
        "!pip install -q -U langchain-google-genai"
      ],
      "metadata": {
        "colab": {
          "base_uri": "https://localhost:8080/"
        },
        "id": "Vz-WMQAiL5HA",
        "outputId": "d551e2bc-8d5b-409f-dc1c-e987274fb0f7"
      },
      "execution_count": 1,
      "outputs": [
        {
          "output_type": "stream",
          "name": "stdout",
          "text": [
            "\u001b[?25l   \u001b[90m━━━━━━━━━━━━━━━━━━━━━━━━━━━━━━━━━━━━━━━━\u001b[0m \u001b[32m0.0/1.0 MB\u001b[0m \u001b[31m?\u001b[0m eta \u001b[36m-:--:--\u001b[0m\r\u001b[2K   \u001b[91m━━━━━━━━\u001b[0m\u001b[90m╺\u001b[0m\u001b[90m━━━━━━━━━━━━━━━━━━━━━━━━━━━━━━━\u001b[0m \u001b[32m0.2/1.0 MB\u001b[0m \u001b[31m6.0 MB/s\u001b[0m eta \u001b[36m0:00:01\u001b[0m\r\u001b[2K   \u001b[91m━━━━━━━━━━━━━━━━━━━━━━━━━━━━━━━━━━━━━━━\u001b[0m\u001b[91m╸\u001b[0m \u001b[32m1.0/1.0 MB\u001b[0m \u001b[31m17.1 MB/s\u001b[0m eta \u001b[36m0:00:01\u001b[0m\r\u001b[2K   \u001b[90m━━━━━━━━━━━━━━━━━━━━━━━━━━━━━━━━━━━━━━━━\u001b[0m \u001b[32m1.0/1.0 MB\u001b[0m \u001b[31m13.4 MB/s\u001b[0m eta \u001b[36m0:00:00\u001b[0m\n",
            "\u001b[2K   \u001b[90m━━━━━━━━━━━━━━━━━━━━━━━━━━━━━━━━━━━━━━━━\u001b[0m \u001b[32m411.6/411.6 kB\u001b[0m \u001b[31m29.8 MB/s\u001b[0m eta \u001b[36m0:00:00\u001b[0m\n",
            "\u001b[2K   \u001b[90m━━━━━━━━━━━━━━━━━━━━━━━━━━━━━━━━━━━━━━━━\u001b[0m \u001b[32m41.3/41.3 kB\u001b[0m \u001b[31m1.8 MB/s\u001b[0m eta \u001b[36m0:00:00\u001b[0m\n",
            "\u001b[?25h"
          ]
        }
      ]
    },
    {
      "cell_type": "code",
      "source": [
        "!pip install --upgrade --quiet google-genai"
      ],
      "metadata": {
        "id": "XfdrrAFi-VPt"
      },
      "execution_count": 2,
      "outputs": []
    },
    {
      "cell_type": "code",
      "source": [
        "!pip install gTTS --quiet"
      ],
      "metadata": {
        "id": "QzjOkgNV-VEQ"
      },
      "execution_count": 3,
      "outputs": []
    },
    {
      "cell_type": "code",
      "source": [
        "!pip install playsound --quiet"
      ],
      "metadata": {
        "colab": {
          "base_uri": "https://localhost:8080/"
        },
        "id": "nbx4K2Cj-U6P",
        "outputId": "c6e16b2f-19f0-4138-fe61-8b7fa6d5b3d2"
      },
      "execution_count": 4,
      "outputs": [
        {
          "output_type": "stream",
          "name": "stdout",
          "text": [
            "  Preparing metadata (setup.py) ... \u001b[?25l\u001b[?25hdone\n",
            "  Building wheel for playsound (setup.py) ... \u001b[?25l\u001b[?25hdone\n"
          ]
        }
      ]
    },
    {
      "cell_type": "markdown",
      "source": [
        "# Importing tools"
      ],
      "metadata": {
        "id": "099sFK3IttEJ"
      }
    },
    {
      "cell_type": "code",
      "source": [
        "from langchain_google_genai import ChatGoogleGenerativeAI\n",
        "from IPython.display import Markdown,display\n",
        "import os"
      ],
      "metadata": {
        "id": "ERLWc2iyNTeD"
      },
      "execution_count": 12,
      "outputs": []
    },
    {
      "cell_type": "code",
      "execution_count": 6,
      "metadata": {
        "colab": {
          "base_uri": "https://localhost:8080/"
        },
        "id": "rO2Rs8ir1VXU",
        "outputId": "fdcbe5c6-0aa2-4ccd-b31d-252ffa0ff5e0"
      },
      "outputs": [
        {
          "output_type": "stream",
          "name": "stdout",
          "text": [
            "API Key found\n"
          ]
        }
      ],
      "source": [
        "from google.colab import userdata\n",
        "GEMINI_API_KEY: str = userdata.get('GOOGLE_API_KEY_1')\n",
        "if(GEMINI_API_KEY):\n",
        "  print(\"API Key found\")\n",
        "else:\n",
        "  print(\"API Key not found\")"
      ]
    },
    {
      "cell_type": "code",
      "source": [
        "from google import genai\n",
        "from google.genai import Client\n",
        "\n",
        "client: Client = genai.Client(\n",
        "    api_key=GEMINI_API_KEY,\n",
        ")\n",
        "\n",
        "model: str = \"gemini-2.0-flash-exp\""
      ],
      "metadata": {
        "id": "Ydme_ow_2VXk"
      },
      "execution_count": 7,
      "outputs": []
    },
    {
      "cell_type": "markdown",
      "source": [
        "# Generating video\n",
        "###I asked LLM to generate the video by giving prompt as:\n",
        "Create a 30 second video. In the start 15 seconds show a scene of dark night turning into a bright day time, but only show the sky view, with the sound of cool winds blowing. Then in next 15 seconds show a scene of sea waves going back and forth, with the sound of sea waves."
      ],
      "metadata": {
        "id": "qrBBRbc8uBnt"
      }
    },
    {
      "cell_type": "code",
      "source": [
        "import gdown\n",
        "import os\n",
        "\n",
        "generated_video_url = \"https://docs.google.com/uc?id=1735808007210\"\n",
        "generated_video_path = \"/content/1735808007210.mp4\"\n",
        "\n",
        "if not os.path.exists(generated_video_path):\n",
        "    try:\n",
        "        gdown.download(generated_video_url, generated_video_path, quiet=True)\n",
        "        print(f\"Video downloaded successfully: {generated_video_path}\")\n",
        "    except Exception as e:\n",
        "        print(f\"Error downloading video: {e}\")\n",
        "else:\n",
        "    print(f\"Video already exists at: {generated_video_path}\")"
      ],
      "metadata": {
        "colab": {
          "base_uri": "https://localhost:8080/"
        },
        "id": "Nz3Pn5m1hk_1",
        "outputId": "3faaf786-c8cd-4505-fa95-c339b28e95a2"
      },
      "execution_count": 15,
      "outputs": [
        {
          "output_type": "stream",
          "name": "stdout",
          "text": [
            "Video already exists at: /content/1735808007210.mp4\n"
          ]
        }
      ]
    },
    {
      "cell_type": "code",
      "source": [
        "import time\n",
        "client = genai.Client(api_key=userdata.get(\"GOOGLE_API_KEY_1\"))\n",
        "ai_generated_video = \"/content/1735808007210.mp4\""
      ],
      "metadata": {
        "id": "HnlerCtdiXdj"
      },
      "execution_count": 19,
      "outputs": []
    },
    {
      "cell_type": "code",
      "source": [
        "import time\n",
        "\n",
        "def upload_video(ai_generated_video):\n",
        "        try:\n",
        "            generated_video = client.files.upload(path=ai_generated_video)\n",
        "\n",
        "            while generated_video.state == \"PROCESSING\":\n",
        "                print('Waiting for video to be processed.')\n",
        "                time.sleep(15)\n",
        "                generated_video = client.files.get(name=generated_video.name or \"\")\n",
        "\n",
        "            if generated_video.state == \"FAILED\":\n",
        "                raise ValueError(f\"Video processing failed: {generated_video.state}\")\n",
        "            print(f'Video processing complete: {generated_video.uri}')\n",
        "            return generated_video\n",
        "        except Exception as e:\n",
        "            print(f\"An error occurred during video upload: {e}\")\n",
        "            return None\n",
        "\n",
        "my_video = upload_video(ai_generated_video)"
      ],
      "metadata": {
        "colab": {
          "base_uri": "https://localhost:8080/"
        },
        "id": "pAK3vObV6jvR",
        "outputId": "c2a4a8e4-6e54-4a5f-83a9-8cc132245e48"
      },
      "execution_count": 20,
      "outputs": [
        {
          "output_type": "stream",
          "name": "stdout",
          "text": [
            "Waiting for video to be processed.\n",
            "Video processing complete: https://generativelanguage.googleapis.com/v1beta/files/tkn36q7oggo6\n"
          ]
        }
      ]
    },
    {
      "cell_type": "code",
      "source": [
        "from google.genai.types import Content, Part\n",
        "from IPython.display import Markdown,display\n",
        "def generated_video_with_langchain(ai_generated_video):\n",
        "  prompt_template = \"\"\"\n",
        "    For each scene in this video,\n",
        "    generate captions that describe the scene along with any spoken text placed in quotation marks.\n",
        "    Place each caption into an object with the timecode of the caption in the video.\n",
        "           \"\"\"\n",
        "\n",
        "  response = client.models.generate_content(\n",
        "    model=\"gemini-2.0-flash-exp\",\n",
        "  contents=[\n",
        "      Content(\n",
        "          role=\"user\",\n",
        "          parts=[\n",
        "              Part.from_uri(\n",
        "                  file_uri=ai_generated_video.uri or \"\",\n",
        "                  mime_type=ai_generated_video.mime_type or \"\"),\n",
        "            ]),\n",
        "    Content(\n",
        "        role=\"user\",\n",
        "        parts=[Part(text=prompt_template)]\n",
        "        )\n",
        "    ]\n",
        "  )\n",
        "  print(\"Video Analysis:\")\n",
        "  display(Markdown(response.text))\n",
        "print(generated_video_with_langchain(my_video))"
      ],
      "metadata": {
        "colab": {
          "base_uri": "https://localhost:8080/",
          "height": 317
        },
        "id": "__s4j4BMk7Bx",
        "outputId": "89c44a2a-caf6-4070-c170-71da7299b713"
      },
      "execution_count": 41,
      "outputs": [
        {
          "output_type": "stream",
          "name": "stdout",
          "text": [
            "Video Analysis:\n"
          ]
        },
        {
          "output_type": "display_data",
          "data": {
            "text/plain": [
              "<IPython.core.display.Markdown object>"
            ],
            "text/markdown": "```json\n[\n    {\n        \"timecode\": \"00:00\",\n        \"caption\": \"A view of a dark sky full of stars with mountains silhouetted at the bottom. The milky way is visible in the middle of the sky. There is a dark pink object at the top of the frame.\"\n    },\n    {\n       \"timecode\": \"00:07\",\n        \"caption\": \"The scene changes to a sky with blue and gray clouds. The sun is visible in the lower right corner.\"\n    },\n        {\n        \"timecode\":\"00:14\",\n        \"caption\": \"The scene changes again to a dark ocean with dark gray clouds in the sky. The waves are crashing onto the beach. There are two small concrete jetties visible on the beach.\"\n     }\n]\n```"
          },
          "metadata": {}
        },
        {
          "output_type": "stream",
          "name": "stdout",
          "text": [
            "None\n"
          ]
        }
      ]
    }
  ]
}